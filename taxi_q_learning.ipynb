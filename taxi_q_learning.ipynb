{
 "cells": [
  {
   "cell_type": "code",
   "execution_count": 34,
   "metadata": {},
   "outputs": [],
   "source": [
    "import gymnasium as gym\n",
    "import numpy\n",
    "import random\n",
    "import matplotlib.pyplot as plt"
   ]
  },
  {
   "cell_type": "markdown",
   "metadata": {},
   "source": [
    "# Agent"
   ]
  },
  {
   "cell_type": "code",
   "execution_count": 30,
   "metadata": {},
   "outputs": [],
   "source": [
    "class TaxiAgent:\n",
    "    def __init__(self,\n",
    "                 env,\n",
    "                 learning_rate,\n",
    "                 discount_factor,\n",
    "                 start_exploration_prob,\n",
    "                 min_exploration_prob,\n",
    "                 exploration_prob_decay):\n",
    "        \n",
    "        self.env = env\n",
    "\n",
    "        # Create 500x6 Q-Table filled with zeros\n",
    "        self.q_table = numpy.zeros((env.observation_space.n, env.action_space.n))\n",
    "\n",
    "        # Hyperparameters\n",
    "        self.learning_rate = learning_rate                  # Alpha\n",
    "        self.discount_factor = discount_factor              # Gamma\n",
    "        self.exploration_prob = start_exploration_prob      # Epsilon\n",
    "        self.min_exploration_prob = min_exploration_prob\n",
    "        self.exploration_prob_decay = exploration_prob_decay\n",
    "\n",
    "    # Policy\n",
    "    def get_action(self, state):\n",
    "        if random.uniform(0, 1) < self.exploration_prob:\n",
    "            return self.env.action_space.sample() # Explore action space\n",
    "        else:\n",
    "            return numpy.argmax(self.q_table[state]) # Exploit learned values\n",
    "\n",
    "    def update_q_table(self, state, action, new_state, reward):\n",
    "        alpha = self.learning_rate\n",
    "        gamma = self.discount_factor\n",
    "\n",
    "        # Bellman Equation\n",
    "        value = self.q_table[state, action]\n",
    "        new_state_max = numpy.max(self.q_table[new_state])\n",
    "        new_value = (1 - alpha) * value + alpha * (reward + gamma * new_state_max)\n",
    "\n",
    "        # Write to Q-Table\n",
    "        self.q_table[state, action] = new_value\n",
    "\n",
    "    def decay_exploration_prob(self):\n",
    "        self.exploration_prob = max(self.min_exploration_prob, self.exploration_prob - self.exploration_prob_decay)"
   ]
  },
  {
   "cell_type": "markdown",
   "metadata": {},
   "source": [
    "# Training"
   ]
  },
  {
   "cell_type": "code",
   "execution_count": 31,
   "metadata": {},
   "outputs": [
    {
     "data": {
      "text/plain": [
       "[<matplotlib.lines.Line2D at 0x11627a0f0>]"
      ]
     },
     "execution_count": 31,
     "metadata": {},
     "output_type": "execute_result"
    },
    {
     "data": {
      "image/png": "[encoded data removed]",
      "text/plain": [
       "<Figure size 640x480 with 1 Axes>"
      ]
     },
     "metadata": {},
     "output_type": "display_data"
    }
   ],
   "source": [
    "# ----- Parameters -----\n",
    "total_episodes = 10_000\n",
    "max_episode_steps = 200\n",
    "\n",
    "learning_rate = 0.05\n",
    "discount_factor = 0.95\n",
    "start_exploration_prob = 1.0\n",
    "min_exploration_prob = 0.1\n",
    "exploration_prob_decay = start_exploration_prob / (total_episodes / 2)\n",
    "\n",
    "\n",
    "\n",
    "env = gym.make(\"Taxi-v3\")\n",
    "taxiAgent = TaxiAgent(\n",
    "    env = env,\n",
    "    learning_rate = learning_rate,\n",
    "    discount_factor = discount_factor,\n",
    "    start_exploration_prob = start_exploration_prob,\n",
    "    min_exploration_prob = min_exploration_prob,\n",
    "    exploration_prob_decay = exploration_prob_decay\n",
    ")\n",
    "\n",
    "reward_sum_per_episode = []\n",
    "steps_per_episode = []\n",
    "\n",
    "# Episode\n",
    "for episode in range(total_episodes):\n",
    "    state, _ = env.reset()\n",
    "    terminated = False\n",
    "    truncated = False\n",
    "    reward_sum = 0\n",
    "    step = 0\n",
    "\n",
    "    # Steps in an Episode\n",
    "    while (not terminated and not truncated and step < max_episode_steps):\n",
    "        action = taxiAgent.get_action(state)\n",
    "        new_state, reward, terminated, truncated, _ = env.step(action)\n",
    "\n",
    "        taxiAgent.update_q_table(state, action, new_state, reward)\n",
    "        state = new_state\n",
    "\n",
    "        reward_sum += reward\n",
    "        step += 1\n",
    "    \n",
    "    taxiAgent.decay_exploration_prob()\n",
    "    reward_sum_per_episode.append(reward_sum)\n",
    "    steps_per_episode.append(step)\n",
    "\n",
    "# Plot\n",
    "plt.plot(reward_sum_per_episode)"
   ]
  }
 ],
 "metadata": {
  "kernelspec": {
   "display_name": ".venv",
   "language": "python",
   "name": "python3"
  },
  "language_info": {
   "codemirror_mode": {
    "name": "ipython",
    "version": 3
   },
   "file_extension": ".py",
   "mimetype": "text/x-python",
   "name": "python",
   "nbconvert_exporter": "python",
   "pygments_lexer": "ipython3",
   "version": "3.12.4"
  }
 },
 "nbformat": 4,
 "nbformat_minor": 2
}
