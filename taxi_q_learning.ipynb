{
 "cells": [
  {
   "cell_type": "code",
   "execution_count": 1,
   "metadata": {},
   "outputs": [],
   "source": [
    "import gymnasium as gym\n",
    "import numpy\n",
    "import random\n",
    "import matplotlib.pyplot as plt"
   ]
  },
  {
   "cell_type": "markdown",
   "metadata": {},
   "source": [
    "# Util Functions"
   ]
  },
  {
   "cell_type": "code",
   "execution_count": 2,
   "metadata": {},
   "outputs": [],
   "source": [
    "def squish(array, step):\n",
    "    averages = []\n",
    "    n = len(array)\n",
    "    \n",
    "    for i in range(0, n, step):\n",
    "        chunk = array[i:i + step]\n",
    "        chunk_sum = sum(chunk)\n",
    "        chunk_average = chunk_sum / len(chunk)\n",
    "        averages.append(chunk_average)\n",
    "        \n",
    "    return averages"
   ]
  },
  {
   "cell_type": "markdown",
   "metadata": {},
   "source": [
    "# Agent"
   ]
  },
  {
   "cell_type": "code",
   "execution_count": 3,
   "metadata": {},
   "outputs": [],
   "source": [
    "class QAgent:\n",
    "    def __init__(self,\n",
    "                 training,\n",
    "                 env,\n",
    "                 learning_rate,\n",
    "                 discount_factor,\n",
    "                 start_exploration_prob,\n",
    "                 min_exploration_prob,\n",
    "                 exploration_prob_decay):\n",
    "        \"\"\"\n",
    "        Initializes the QAgent with the given parameters and creates a Q-table filled with zeros.\n",
    "\n",
    "        Args:\n",
    "            env (gym.Env): The environment in which the agent operates.\n",
    "            learning_rate (float): The learning rate (alpha).\n",
    "            discount_factor (float): The discount factor (gamma).\n",
    "            start_exploration_prob (float): The initial exploration probability (epsilon).\n",
    "            min_exploration_prob (float): The minimum exploration probability.\n",
    "            exploration_prob_decay (float): The rate at which exploration probability decays.\n",
    "        \"\"\"\n",
    "        \n",
    "        self.training = training\n",
    "        self.env = env\n",
    "\n",
    "        # Create Q-Table filled with zeros\n",
    "        self.q_table = numpy.zeros((env.observation_space.n, env.action_space.n))\n",
    "\n",
    "        # Hyperparameters\n",
    "        self.learning_rate = learning_rate                  # Alpha\n",
    "        self.discount_factor = discount_factor              # Gamma\n",
    "        self.exploration_prob = start_exploration_prob      # Epsilon\n",
    "        self.min_exploration_prob = min_exploration_prob\n",
    "        self.exploration_prob_decay = exploration_prob_decay\n",
    "\n",
    "    def get_action(self, state):\n",
    "        \"\"\"\n",
    "        Selects an action based on an epsilon-greedy policy.\n",
    "\n",
    "        Args:\n",
    "            state (int): The current state of the environment.\n",
    "\n",
    "        Returns:\n",
    "            int: The action chosen by the agent. It will explore (random action) with a probability \n",
    "                 of self.exploration_prob, otherwise it will exploit (choose the best action based on Q-table).\n",
    "        \"\"\"\n",
    "        if self.training and random.uniform(0, 1) < self.exploration_prob:\n",
    "            return self.env.action_space.sample()\n",
    "        else:\n",
    "            return numpy.argmax(self.q_table[state])\n",
    "\n",
    "    def update_q_table(self, state, action, new_state, reward):\n",
    "        \"\"\"\n",
    "        Updates the Q-table using the Bellman equation.\n",
    "\n",
    "        Args:\n",
    "            state (int): The previous state.\n",
    "            action (int): The action taken.\n",
    "            new_state (int): The state after taking the action.\n",
    "            reward (float): The reward received after taking the action.\n",
    "        \"\"\"\n",
    "        alpha = self.learning_rate\n",
    "        gamma = self.discount_factor\n",
    "\n",
    "        # Bellman Equation\n",
    "        value = self.q_table[state, action]\n",
    "        new_state_max = numpy.max(self.q_table[new_state])\n",
    "        new_value = (1 - alpha) * value + alpha * (reward + gamma * new_state_max)\n",
    "\n",
    "        # Write to Q-Table\n",
    "        self.q_table[state, action] = new_value\n",
    "\n",
    "    def decay_exploration_prob(self):\n",
    "        \"\"\"\n",
    "        Decays the exploration probability after each episode to reduce the rate of exploration over time.\n",
    "        Ensures that the exploration probability does not fall below the minimum exploration probability.\n",
    "        \"\"\"\n",
    "        self.exploration_prob = max(self.min_exploration_prob, self.exploration_prob - self.exploration_prob_decay)\n"
   ]
  },
  {
   "cell_type": "markdown",
   "metadata": {},
   "source": [
    "# Training"
   ]
  },
  {
   "cell_type": "code",
   "execution_count": 4,
   "metadata": {},
   "outputs": [],
   "source": [
    "# ----- Parameters -----\n",
    "total_episodes = 10_000\n",
    "max_episode_steps = 200\n",
    "\n",
    "learning_rate = 0.1\n",
    "discount_factor = 0.9\n",
    "start_exploration_prob = 1.0\n",
    "min_exploration_prob = 0.0\n",
    "exploration_prob_decay = start_exploration_prob / (total_episodes / 2)\n",
    "\n",
    "\n",
    "\n",
    "env = gym.make(\"Taxi-v3\")\n",
    "agent = QAgent(True,\n",
    "                    env,\n",
    "                    learning_rate,\n",
    "                    discount_factor,\n",
    "                    start_exploration_prob,\n",
    "                    min_exploration_prob,\n",
    "                    exploration_prob_decay)\n",
    "\n",
    "reward_sum_per_episode = []\n",
    "steps_per_episode = []\n",
    "\n",
    "# Episode\n",
    "for episode in range(total_episodes):\n",
    "    state, _ = env.reset()\n",
    "    terminated = False\n",
    "    truncated = False\n",
    "    reward_sum = 0\n",
    "    step = 0\n",
    "\n",
    "    # Steps in an Episode\n",
    "    while (not terminated and not truncated and step < max_episode_steps):\n",
    "        action = agent.get_action(state)\n",
    "        new_state, reward, terminated, truncated, _ = env.step(action)\n",
    "\n",
    "        agent.update_q_table(state, action, new_state, reward)\n",
    "        state = new_state\n",
    "\n",
    "        reward_sum += reward\n",
    "        step += 1\n",
    "    \n",
    "    agent.decay_exploration_prob()\n",
    "    reward_sum_per_episode.append(reward_sum)\n",
    "    steps_per_episode.append(step)\n",
    "\n",
    "env.close()"
   ]
  },
  {
   "cell_type": "code",
   "execution_count": 5,
   "metadata": {},
   "outputs": [
    {
     "data": {
      "text/plain": [
       "([<matplotlib.lines.Line2D at 0x114532450>],\n",
       " [<matplotlib.lines.Line2D at 0x1147b4770>])"
      ]
     },
     "execution_count": 5,
     "metadata": {},
     "output_type": "execute_result"
    },
    {
     "data": {
      "image/png": "[encoded data removed]",
      "text/plain": [
       "<Figure size 640x480 with 1 Axes>"
      ]
     },
     "metadata": {},
     "output_type": "display_data"
    }
   ],
   "source": [
    "# Blue                            Orange\n",
    "plt.plot(reward_sum_per_episode), plt.plot(steps_per_episode)"
   ]
  },
  {
   "cell_type": "code",
   "execution_count": 6,
   "metadata": {},
   "outputs": [
    {
     "data": {
      "text/plain": [
       "([<matplotlib.lines.Line2D at 0x1147786e0>],\n",
       " [<matplotlib.lines.Line2D at 0x117059c70>])"
      ]
     },
     "execution_count": 6,
     "metadata": {},
     "output_type": "execute_result"
    },
    {
     "data": {
      "image/png": "[encoded data removed]",
      "text/plain": [
       "<Figure size 640x480 with 1 Axes>"
      ]
     },
     "metadata": {},
     "output_type": "display_data"
    }
   ],
   "source": [
    "squished_rewards = squish(reward_sum_per_episode, 100)\n",
    "squished_steps = squish(steps_per_episode, 100)\n",
    "\n",
    "plt.plot(squished_rewards), plt.plot(squished_steps)"
   ]
  },
  {
   "cell_type": "markdown",
   "metadata": {},
   "source": [
    "# Evaluate Agent"
   ]
  },
  {
   "cell_type": "code",
   "execution_count": null,
   "metadata": {},
   "outputs": [],
   "source": [
    "env = gym.make(\"Taxi-v3\", render_mode=\"human\")\n",
    "agent.training = False\n",
    "\n",
    "total_episodes = 5\n",
    "max_episode_steps = 200\n",
    "\n",
    "# Episode\n",
    "for episode in range(total_episodes):\n",
    "    state, _ = env.reset()\n",
    "    terminated = False\n",
    "    truncated = False\n",
    "    reward_sum = 0\n",
    "    step = 0\n",
    "\n",
    "    # Steps in an Episode\n",
    "    while (not terminated and not truncated and step < max_episode_steps):\n",
    "        action = agent.get_action(state)\n",
    "        new_state, reward, terminated, truncated, _ = env.step(action)\n",
    "\n",
    "        state = new_state\n",
    "\n",
    "        reward_sum += reward\n",
    "        step += 1\n",
    "    \n",
    "    print(f\"Reward for Episode {episode}: {reward_sum}\")\n",
    "    reward_sum_per_episode.append(reward_sum)\n",
    "    steps_per_episode.append(step)\n",
    "\n",
    "env.close()"
   ]
  }
 ],
 "metadata": {
  "kernelspec": {
   "display_name": ".venv",
   "language": "python",
   "name": "python3"
  },
  "language_info": {
   "codemirror_mode": {
    "name": "ipython",
    "version": 3
   },
   "file_extension": ".py",
   "mimetype": "text/x-python",
   "name": "python",
   "nbconvert_exporter": "python",
   "pygments_lexer": "ipython3",
   "version": "3.12.4"
  }
 },
 "nbformat": 4,
 "nbformat_minor": 2
}
